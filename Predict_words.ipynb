{
  "nbformat": 4,
  "nbformat_minor": 0,
  "metadata": {
    "colab": {
      "provenance": [],
      "collapsed_sections": [
        "xXiWSh6xdQTa",
        "OA0wBpWTddHN",
        "wypwyuv5do4M",
        "btOibkhcdwUQ"
      ],
      "machine_shape": "hm",
      "gpuType": "A100"
    },
    "kernelspec": {
      "name": "python3",
      "display_name": "Python 3"
    },
    "language_info": {
      "name": "python"
    },
    "accelerator": "GPU",
    "widgets": {
      "application/vnd.jupyter.widget-state+json": {
        "114441388ea148628a344131b8620bc0": {
          "model_module": "@jupyter-widgets/controls",
          "model_name": "HBoxModel",
          "model_module_version": "1.5.0",
          "state": {
            "_dom_classes": [],
            "_model_module": "@jupyter-widgets/controls",
            "_model_module_version": "1.5.0",
            "_model_name": "HBoxModel",
            "_view_count": null,
            "_view_module": "@jupyter-widgets/controls",
            "_view_module_version": "1.5.0",
            "_view_name": "HBoxView",
            "box_style": "",
            "children": [
              "IPY_MODEL_ee24963d5fd64f98b303e5ad8bc63de6",
              "IPY_MODEL_0f8db774f277437e9bc46f7b94f7a39e",
              "IPY_MODEL_da2fcb46b8004de5a3889c4e2bd4d8df"
            ],
            "layout": "IPY_MODEL_e44787b0f269492bace38f6b142e5911"
          }
        },
        "ee24963d5fd64f98b303e5ad8bc63de6": {
          "model_module": "@jupyter-widgets/controls",
          "model_name": "HTMLModel",
          "model_module_version": "1.5.0",
          "state": {
            "_dom_classes": [],
            "_model_module": "@jupyter-widgets/controls",
            "_model_module_version": "1.5.0",
            "_model_name": "HTMLModel",
            "_view_count": null,
            "_view_module": "@jupyter-widgets/controls",
            "_view_module_version": "1.5.0",
            "_view_name": "HTMLView",
            "description": "",
            "description_tooltip": null,
            "layout": "IPY_MODEL_06c6b353fd584ec89f12474d61b6452d",
            "placeholder": "​",
            "style": "IPY_MODEL_2f4aac0e2b3a4a32b22b75773974c074",
            "value": "Cleaning sentences: 100%"
          }
        },
        "0f8db774f277437e9bc46f7b94f7a39e": {
          "model_module": "@jupyter-widgets/controls",
          "model_name": "FloatProgressModel",
          "model_module_version": "1.5.0",
          "state": {
            "_dom_classes": [],
            "_model_module": "@jupyter-widgets/controls",
            "_model_module_version": "1.5.0",
            "_model_name": "FloatProgressModel",
            "_view_count": null,
            "_view_module": "@jupyter-widgets/controls",
            "_view_module_version": "1.5.0",
            "_view_name": "ProgressView",
            "bar_style": "success",
            "description": "",
            "description_tooltip": null,
            "layout": "IPY_MODEL_dd9ac843c7144b5885b2a7f75fabbd1d",
            "max": 7313,
            "min": 0,
            "orientation": "horizontal",
            "style": "IPY_MODEL_9009a33a0b984f33a21f87f3b02eaa86",
            "value": 7313
          }
        },
        "da2fcb46b8004de5a3889c4e2bd4d8df": {
          "model_module": "@jupyter-widgets/controls",
          "model_name": "HTMLModel",
          "model_module_version": "1.5.0",
          "state": {
            "_dom_classes": [],
            "_model_module": "@jupyter-widgets/controls",
            "_model_module_version": "1.5.0",
            "_model_name": "HTMLModel",
            "_view_count": null,
            "_view_module": "@jupyter-widgets/controls",
            "_view_module_version": "1.5.0",
            "_view_name": "HTMLView",
            "description": "",
            "description_tooltip": null,
            "layout": "IPY_MODEL_37db5ba8d0204ac297fdd295b5173e42",
            "placeholder": "​",
            "style": "IPY_MODEL_c6a65bfcfbc24082bbc3a70815611242",
            "value": " 7313/7313 [00:00&lt;00:00, 19508.36it/s]"
          }
        },
        "e44787b0f269492bace38f6b142e5911": {
          "model_module": "@jupyter-widgets/base",
          "model_name": "LayoutModel",
          "model_module_version": "1.2.0",
          "state": {
            "_model_module": "@jupyter-widgets/base",
            "_model_module_version": "1.2.0",
            "_model_name": "LayoutModel",
            "_view_count": null,
            "_view_module": "@jupyter-widgets/base",
            "_view_module_version": "1.2.0",
            "_view_name": "LayoutView",
            "align_content": null,
            "align_items": null,
            "align_self": null,
            "border": null,
            "bottom": null,
            "display": "inline-flex",
            "flex": null,
            "flex_flow": "row wrap",
            "grid_area": null,
            "grid_auto_columns": null,
            "grid_auto_flow": null,
            "grid_auto_rows": null,
            "grid_column": null,
            "grid_gap": null,
            "grid_row": null,
            "grid_template_areas": null,
            "grid_template_columns": null,
            "grid_template_rows": null,
            "height": null,
            "justify_content": null,
            "justify_items": null,
            "left": null,
            "margin": null,
            "max_height": null,
            "max_width": null,
            "min_height": null,
            "min_width": null,
            "object_fit": null,
            "object_position": null,
            "order": null,
            "overflow": null,
            "overflow_x": null,
            "overflow_y": null,
            "padding": null,
            "right": null,
            "top": null,
            "visibility": null,
            "width": "100px"
          }
        },
        "06c6b353fd584ec89f12474d61b6452d": {
          "model_module": "@jupyter-widgets/base",
          "model_name": "LayoutModel",
          "model_module_version": "1.2.0",
          "state": {
            "_model_module": "@jupyter-widgets/base",
            "_model_module_version": "1.2.0",
            "_model_name": "LayoutModel",
            "_view_count": null,
            "_view_module": "@jupyter-widgets/base",
            "_view_module_version": "1.2.0",
            "_view_name": "LayoutView",
            "align_content": null,
            "align_items": null,
            "align_self": null,
            "border": null,
            "bottom": null,
            "display": null,
            "flex": null,
            "flex_flow": null,
            "grid_area": null,
            "grid_auto_columns": null,
            "grid_auto_flow": null,
            "grid_auto_rows": null,
            "grid_column": null,
            "grid_gap": null,
            "grid_row": null,
            "grid_template_areas": null,
            "grid_template_columns": null,
            "grid_template_rows": null,
            "height": null,
            "justify_content": null,
            "justify_items": null,
            "left": null,
            "margin": null,
            "max_height": null,
            "max_width": null,
            "min_height": null,
            "min_width": null,
            "object_fit": null,
            "object_position": null,
            "order": null,
            "overflow": null,
            "overflow_x": null,
            "overflow_y": null,
            "padding": null,
            "right": null,
            "top": null,
            "visibility": null,
            "width": null
          }
        },
        "2f4aac0e2b3a4a32b22b75773974c074": {
          "model_module": "@jupyter-widgets/controls",
          "model_name": "DescriptionStyleModel",
          "model_module_version": "1.5.0",
          "state": {
            "_model_module": "@jupyter-widgets/controls",
            "_model_module_version": "1.5.0",
            "_model_name": "DescriptionStyleModel",
            "_view_count": null,
            "_view_module": "@jupyter-widgets/base",
            "_view_module_version": "1.2.0",
            "_view_name": "StyleView",
            "description_width": ""
          }
        },
        "dd9ac843c7144b5885b2a7f75fabbd1d": {
          "model_module": "@jupyter-widgets/base",
          "model_name": "LayoutModel",
          "model_module_version": "1.2.0",
          "state": {
            "_model_module": "@jupyter-widgets/base",
            "_model_module_version": "1.2.0",
            "_model_name": "LayoutModel",
            "_view_count": null,
            "_view_module": "@jupyter-widgets/base",
            "_view_module_version": "1.2.0",
            "_view_name": "LayoutView",
            "align_content": null,
            "align_items": null,
            "align_self": null,
            "border": null,
            "bottom": null,
            "display": null,
            "flex": "2",
            "flex_flow": null,
            "grid_area": null,
            "grid_auto_columns": null,
            "grid_auto_flow": null,
            "grid_auto_rows": null,
            "grid_column": null,
            "grid_gap": null,
            "grid_row": null,
            "grid_template_areas": null,
            "grid_template_columns": null,
            "grid_template_rows": null,
            "height": null,
            "justify_content": null,
            "justify_items": null,
            "left": null,
            "margin": null,
            "max_height": null,
            "max_width": null,
            "min_height": null,
            "min_width": null,
            "object_fit": null,
            "object_position": null,
            "order": null,
            "overflow": null,
            "overflow_x": null,
            "overflow_y": null,
            "padding": null,
            "right": null,
            "top": null,
            "visibility": null,
            "width": null
          }
        },
        "9009a33a0b984f33a21f87f3b02eaa86": {
          "model_module": "@jupyter-widgets/controls",
          "model_name": "ProgressStyleModel",
          "model_module_version": "1.5.0",
          "state": {
            "_model_module": "@jupyter-widgets/controls",
            "_model_module_version": "1.5.0",
            "_model_name": "ProgressStyleModel",
            "_view_count": null,
            "_view_module": "@jupyter-widgets/base",
            "_view_module_version": "1.2.0",
            "_view_name": "StyleView",
            "bar_color": null,
            "description_width": ""
          }
        },
        "37db5ba8d0204ac297fdd295b5173e42": {
          "model_module": "@jupyter-widgets/base",
          "model_name": "LayoutModel",
          "model_module_version": "1.2.0",
          "state": {
            "_model_module": "@jupyter-widgets/base",
            "_model_module_version": "1.2.0",
            "_model_name": "LayoutModel",
            "_view_count": null,
            "_view_module": "@jupyter-widgets/base",
            "_view_module_version": "1.2.0",
            "_view_name": "LayoutView",
            "align_content": null,
            "align_items": null,
            "align_self": null,
            "border": null,
            "bottom": null,
            "display": null,
            "flex": null,
            "flex_flow": null,
            "grid_area": null,
            "grid_auto_columns": null,
            "grid_auto_flow": null,
            "grid_auto_rows": null,
            "grid_column": null,
            "grid_gap": null,
            "grid_row": null,
            "grid_template_areas": null,
            "grid_template_columns": null,
            "grid_template_rows": null,
            "height": null,
            "justify_content": null,
            "justify_items": null,
            "left": null,
            "margin": null,
            "max_height": null,
            "max_width": null,
            "min_height": null,
            "min_width": null,
            "object_fit": null,
            "object_position": null,
            "order": null,
            "overflow": null,
            "overflow_x": null,
            "overflow_y": null,
            "padding": null,
            "right": null,
            "top": null,
            "visibility": null,
            "width": null
          }
        },
        "c6a65bfcfbc24082bbc3a70815611242": {
          "model_module": "@jupyter-widgets/controls",
          "model_name": "DescriptionStyleModel",
          "model_module_version": "1.5.0",
          "state": {
            "_model_module": "@jupyter-widgets/controls",
            "_model_module_version": "1.5.0",
            "_model_name": "DescriptionStyleModel",
            "_view_count": null,
            "_view_module": "@jupyter-widgets/base",
            "_view_module_version": "1.2.0",
            "_view_name": "StyleView",
            "description_width": ""
          }
        },
        "684db2fbd0f442f691db00aa49d4083a": {
          "model_module": "@jupyter-widgets/controls",
          "model_name": "HBoxModel",
          "model_module_version": "1.5.0",
          "state": {
            "_dom_classes": [],
            "_model_module": "@jupyter-widgets/controls",
            "_model_module_version": "1.5.0",
            "_model_name": "HBoxModel",
            "_view_count": null,
            "_view_module": "@jupyter-widgets/controls",
            "_view_module_version": "1.5.0",
            "_view_name": "HBoxView",
            "box_style": "",
            "children": [
              "IPY_MODEL_e9aab23d31e6421d88ec0d9cb9878bd8",
              "IPY_MODEL_739f4d762d14480bb6f699a1b4b5d2c7",
              "IPY_MODEL_9c562fa5bd4545c7b135040e6c530e0b"
            ],
            "layout": "IPY_MODEL_111da060296e46148a86010c528977b3"
          }
        },
        "e9aab23d31e6421d88ec0d9cb9878bd8": {
          "model_module": "@jupyter-widgets/controls",
          "model_name": "HTMLModel",
          "model_module_version": "1.5.0",
          "state": {
            "_dom_classes": [],
            "_model_module": "@jupyter-widgets/controls",
            "_model_module_version": "1.5.0",
            "_model_name": "HTMLModel",
            "_view_count": null,
            "_view_module": "@jupyter-widgets/controls",
            "_view_module_version": "1.5.0",
            "_view_name": "HTMLView",
            "description": "",
            "description_tooltip": null,
            "layout": "IPY_MODEL_b39b4d62637c408f98216f4999d93493",
            "placeholder": "​",
            "style": "IPY_MODEL_ea7ca9daa08e47f1a24eed935ac440d8",
            "value": "Filtering sentences: 100%"
          }
        },
        "739f4d762d14480bb6f699a1b4b5d2c7": {
          "model_module": "@jupyter-widgets/controls",
          "model_name": "FloatProgressModel",
          "model_module_version": "1.5.0",
          "state": {
            "_dom_classes": [],
            "_model_module": "@jupyter-widgets/controls",
            "_model_module_version": "1.5.0",
            "_model_name": "FloatProgressModel",
            "_view_count": null,
            "_view_module": "@jupyter-widgets/controls",
            "_view_module_version": "1.5.0",
            "_view_name": "ProgressView",
            "bar_style": "success",
            "description": "",
            "description_tooltip": null,
            "layout": "IPY_MODEL_f677f344b9e2483eb5439e4218721406",
            "max": 7313,
            "min": 0,
            "orientation": "horizontal",
            "style": "IPY_MODEL_650ffcec1ea4408c9fe62c5300937234",
            "value": 7313
          }
        },
        "9c562fa5bd4545c7b135040e6c530e0b": {
          "model_module": "@jupyter-widgets/controls",
          "model_name": "HTMLModel",
          "model_module_version": "1.5.0",
          "state": {
            "_dom_classes": [],
            "_model_module": "@jupyter-widgets/controls",
            "_model_module_version": "1.5.0",
            "_model_name": "HTMLModel",
            "_view_count": null,
            "_view_module": "@jupyter-widgets/controls",
            "_view_module_version": "1.5.0",
            "_view_name": "HTMLView",
            "description": "",
            "description_tooltip": null,
            "layout": "IPY_MODEL_be7d3fbcf461421286ffe232617269c9",
            "placeholder": "​",
            "style": "IPY_MODEL_a1103678f70741f1a3d9398e387e7dd3",
            "value": " 7313/7313 [00:00&lt;00:00, 218297.24it/s]"
          }
        },
        "111da060296e46148a86010c528977b3": {
          "model_module": "@jupyter-widgets/base",
          "model_name": "LayoutModel",
          "model_module_version": "1.2.0",
          "state": {
            "_model_module": "@jupyter-widgets/base",
            "_model_module_version": "1.2.0",
            "_model_name": "LayoutModel",
            "_view_count": null,
            "_view_module": "@jupyter-widgets/base",
            "_view_module_version": "1.2.0",
            "_view_name": "LayoutView",
            "align_content": null,
            "align_items": null,
            "align_self": null,
            "border": null,
            "bottom": null,
            "display": "inline-flex",
            "flex": null,
            "flex_flow": "row wrap",
            "grid_area": null,
            "grid_auto_columns": null,
            "grid_auto_flow": null,
            "grid_auto_rows": null,
            "grid_column": null,
            "grid_gap": null,
            "grid_row": null,
            "grid_template_areas": null,
            "grid_template_columns": null,
            "grid_template_rows": null,
            "height": null,
            "justify_content": null,
            "justify_items": null,
            "left": null,
            "margin": null,
            "max_height": null,
            "max_width": null,
            "min_height": null,
            "min_width": null,
            "object_fit": null,
            "object_position": null,
            "order": null,
            "overflow": null,
            "overflow_x": null,
            "overflow_y": null,
            "padding": null,
            "right": null,
            "top": null,
            "visibility": null,
            "width": "100px"
          }
        },
        "b39b4d62637c408f98216f4999d93493": {
          "model_module": "@jupyter-widgets/base",
          "model_name": "LayoutModel",
          "model_module_version": "1.2.0",
          "state": {
            "_model_module": "@jupyter-widgets/base",
            "_model_module_version": "1.2.0",
            "_model_name": "LayoutModel",
            "_view_count": null,
            "_view_module": "@jupyter-widgets/base",
            "_view_module_version": "1.2.0",
            "_view_name": "LayoutView",
            "align_content": null,
            "align_items": null,
            "align_self": null,
            "border": null,
            "bottom": null,
            "display": null,
            "flex": null,
            "flex_flow": null,
            "grid_area": null,
            "grid_auto_columns": null,
            "grid_auto_flow": null,
            "grid_auto_rows": null,
            "grid_column": null,
            "grid_gap": null,
            "grid_row": null,
            "grid_template_areas": null,
            "grid_template_columns": null,
            "grid_template_rows": null,
            "height": null,
            "justify_content": null,
            "justify_items": null,
            "left": null,
            "margin": null,
            "max_height": null,
            "max_width": null,
            "min_height": null,
            "min_width": null,
            "object_fit": null,
            "object_position": null,
            "order": null,
            "overflow": null,
            "overflow_x": null,
            "overflow_y": null,
            "padding": null,
            "right": null,
            "top": null,
            "visibility": null,
            "width": null
          }
        },
        "ea7ca9daa08e47f1a24eed935ac440d8": {
          "model_module": "@jupyter-widgets/controls",
          "model_name": "DescriptionStyleModel",
          "model_module_version": "1.5.0",
          "state": {
            "_model_module": "@jupyter-widgets/controls",
            "_model_module_version": "1.5.0",
            "_model_name": "DescriptionStyleModel",
            "_view_count": null,
            "_view_module": "@jupyter-widgets/base",
            "_view_module_version": "1.2.0",
            "_view_name": "StyleView",
            "description_width": ""
          }
        },
        "f677f344b9e2483eb5439e4218721406": {
          "model_module": "@jupyter-widgets/base",
          "model_name": "LayoutModel",
          "model_module_version": "1.2.0",
          "state": {
            "_model_module": "@jupyter-widgets/base",
            "_model_module_version": "1.2.0",
            "_model_name": "LayoutModel",
            "_view_count": null,
            "_view_module": "@jupyter-widgets/base",
            "_view_module_version": "1.2.0",
            "_view_name": "LayoutView",
            "align_content": null,
            "align_items": null,
            "align_self": null,
            "border": null,
            "bottom": null,
            "display": null,
            "flex": "2",
            "flex_flow": null,
            "grid_area": null,
            "grid_auto_columns": null,
            "grid_auto_flow": null,
            "grid_auto_rows": null,
            "grid_column": null,
            "grid_gap": null,
            "grid_row": null,
            "grid_template_areas": null,
            "grid_template_columns": null,
            "grid_template_rows": null,
            "height": null,
            "justify_content": null,
            "justify_items": null,
            "left": null,
            "margin": null,
            "max_height": null,
            "max_width": null,
            "min_height": null,
            "min_width": null,
            "object_fit": null,
            "object_position": null,
            "order": null,
            "overflow": null,
            "overflow_x": null,
            "overflow_y": null,
            "padding": null,
            "right": null,
            "top": null,
            "visibility": null,
            "width": null
          }
        },
        "650ffcec1ea4408c9fe62c5300937234": {
          "model_module": "@jupyter-widgets/controls",
          "model_name": "ProgressStyleModel",
          "model_module_version": "1.5.0",
          "state": {
            "_model_module": "@jupyter-widgets/controls",
            "_model_module_version": "1.5.0",
            "_model_name": "ProgressStyleModel",
            "_view_count": null,
            "_view_module": "@jupyter-widgets/base",
            "_view_module_version": "1.2.0",
            "_view_name": "StyleView",
            "bar_color": null,
            "description_width": ""
          }
        },
        "be7d3fbcf461421286ffe232617269c9": {
          "model_module": "@jupyter-widgets/base",
          "model_name": "LayoutModel",
          "model_module_version": "1.2.0",
          "state": {
            "_model_module": "@jupyter-widgets/base",
            "_model_module_version": "1.2.0",
            "_model_name": "LayoutModel",
            "_view_count": null,
            "_view_module": "@jupyter-widgets/base",
            "_view_module_version": "1.2.0",
            "_view_name": "LayoutView",
            "align_content": null,
            "align_items": null,
            "align_self": null,
            "border": null,
            "bottom": null,
            "display": null,
            "flex": null,
            "flex_flow": null,
            "grid_area": null,
            "grid_auto_columns": null,
            "grid_auto_flow": null,
            "grid_auto_rows": null,
            "grid_column": null,
            "grid_gap": null,
            "grid_row": null,
            "grid_template_areas": null,
            "grid_template_columns": null,
            "grid_template_rows": null,
            "height": null,
            "justify_content": null,
            "justify_items": null,
            "left": null,
            "margin": null,
            "max_height": null,
            "max_width": null,
            "min_height": null,
            "min_width": null,
            "object_fit": null,
            "object_position": null,
            "order": null,
            "overflow": null,
            "overflow_x": null,
            "overflow_y": null,
            "padding": null,
            "right": null,
            "top": null,
            "visibility": null,
            "width": null
          }
        },
        "a1103678f70741f1a3d9398e387e7dd3": {
          "model_module": "@jupyter-widgets/controls",
          "model_name": "DescriptionStyleModel",
          "model_module_version": "1.5.0",
          "state": {
            "_model_module": "@jupyter-widgets/controls",
            "_model_module_version": "1.5.0",
            "_model_name": "DescriptionStyleModel",
            "_view_count": null,
            "_view_module": "@jupyter-widgets/base",
            "_view_module_version": "1.2.0",
            "_view_name": "StyleView",
            "description_width": ""
          }
        },
        "20d7ade7edb34486b67020e0ac6864bf": {
          "model_module": "@jupyter-widgets/controls",
          "model_name": "HBoxModel",
          "model_module_version": "1.5.0",
          "state": {
            "_dom_classes": [],
            "_model_module": "@jupyter-widgets/controls",
            "_model_module_version": "1.5.0",
            "_model_name": "HBoxModel",
            "_view_count": null,
            "_view_module": "@jupyter-widgets/controls",
            "_view_module_version": "1.5.0",
            "_view_name": "HBoxView",
            "box_style": "",
            "children": [
              "IPY_MODEL_1463642bdee744aaa11ac4e7b768d9f1",
              "IPY_MODEL_c42ec2ab25b545c998bc1bfe289a770b",
              "IPY_MODEL_723234f21d554755879557965caa29db"
            ],
            "layout": "IPY_MODEL_f627d91239c341c5a76b890ff10be6e4"
          }
        },
        "1463642bdee744aaa11ac4e7b768d9f1": {
          "model_module": "@jupyter-widgets/controls",
          "model_name": "HTMLModel",
          "model_module_version": "1.5.0",
          "state": {
            "_dom_classes": [],
            "_model_module": "@jupyter-widgets/controls",
            "_model_module_version": "1.5.0",
            "_model_name": "HTMLModel",
            "_view_count": null,
            "_view_module": "@jupyter-widgets/controls",
            "_view_module_version": "1.5.0",
            "_view_name": "HTMLView",
            "description": "",
            "description_tooltip": null,
            "layout": "IPY_MODEL_7ddaa99cb0c942cb89cf452f6c496bd0",
            "placeholder": "​",
            "style": "IPY_MODEL_cb886c985e714209bf4dc3f9905698e9",
            "value": "Augmenting data: 100%"
          }
        },
        "c42ec2ab25b545c998bc1bfe289a770b": {
          "model_module": "@jupyter-widgets/controls",
          "model_name": "FloatProgressModel",
          "model_module_version": "1.5.0",
          "state": {
            "_dom_classes": [],
            "_model_module": "@jupyter-widgets/controls",
            "_model_module_version": "1.5.0",
            "_model_name": "FloatProgressModel",
            "_view_count": null,
            "_view_module": "@jupyter-widgets/controls",
            "_view_module_version": "1.5.0",
            "_view_name": "ProgressView",
            "bar_style": "success",
            "description": "",
            "description_tooltip": null,
            "layout": "IPY_MODEL_f9c4a1f588af44e18dab3b86c3072bea",
            "max": 6390,
            "min": 0,
            "orientation": "horizontal",
            "style": "IPY_MODEL_7e8e1cfff8984898bd88d99e8274e0b3",
            "value": 6390
          }
        },
        "723234f21d554755879557965caa29db": {
          "model_module": "@jupyter-widgets/controls",
          "model_name": "HTMLModel",
          "model_module_version": "1.5.0",
          "state": {
            "_dom_classes": [],
            "_model_module": "@jupyter-widgets/controls",
            "_model_module_version": "1.5.0",
            "_model_name": "HTMLModel",
            "_view_count": null,
            "_view_module": "@jupyter-widgets/controls",
            "_view_module_version": "1.5.0",
            "_view_name": "HTMLView",
            "description": "",
            "description_tooltip": null,
            "layout": "IPY_MODEL_db22438836cf420d972e1c39449e2ece",
            "placeholder": "​",
            "style": "IPY_MODEL_e2fba870d0964729b8fac68848a271a0",
            "value": " 6390/6390 [00:03&lt;00:00, 3470.89it/s]"
          }
        },
        "f627d91239c341c5a76b890ff10be6e4": {
          "model_module": "@jupyter-widgets/base",
          "model_name": "LayoutModel",
          "model_module_version": "1.2.0",
          "state": {
            "_model_module": "@jupyter-widgets/base",
            "_model_module_version": "1.2.0",
            "_model_name": "LayoutModel",
            "_view_count": null,
            "_view_module": "@jupyter-widgets/base",
            "_view_module_version": "1.2.0",
            "_view_name": "LayoutView",
            "align_content": null,
            "align_items": null,
            "align_self": null,
            "border": null,
            "bottom": null,
            "display": "inline-flex",
            "flex": null,
            "flex_flow": "row wrap",
            "grid_area": null,
            "grid_auto_columns": null,
            "grid_auto_flow": null,
            "grid_auto_rows": null,
            "grid_column": null,
            "grid_gap": null,
            "grid_row": null,
            "grid_template_areas": null,
            "grid_template_columns": null,
            "grid_template_rows": null,
            "height": null,
            "justify_content": null,
            "justify_items": null,
            "left": null,
            "margin": null,
            "max_height": null,
            "max_width": null,
            "min_height": null,
            "min_width": null,
            "object_fit": null,
            "object_position": null,
            "order": null,
            "overflow": null,
            "overflow_x": null,
            "overflow_y": null,
            "padding": null,
            "right": null,
            "top": null,
            "visibility": null,
            "width": "100px"
          }
        },
        "7ddaa99cb0c942cb89cf452f6c496bd0": {
          "model_module": "@jupyter-widgets/base",
          "model_name": "LayoutModel",
          "model_module_version": "1.2.0",
          "state": {
            "_model_module": "@jupyter-widgets/base",
            "_model_module_version": "1.2.0",
            "_model_name": "LayoutModel",
            "_view_count": null,
            "_view_module": "@jupyter-widgets/base",
            "_view_module_version": "1.2.0",
            "_view_name": "LayoutView",
            "align_content": null,
            "align_items": null,
            "align_self": null,
            "border": null,
            "bottom": null,
            "display": null,
            "flex": null,
            "flex_flow": null,
            "grid_area": null,
            "grid_auto_columns": null,
            "grid_auto_flow": null,
            "grid_auto_rows": null,
            "grid_column": null,
            "grid_gap": null,
            "grid_row": null,
            "grid_template_areas": null,
            "grid_template_columns": null,
            "grid_template_rows": null,
            "height": null,
            "justify_content": null,
            "justify_items": null,
            "left": null,
            "margin": null,
            "max_height": null,
            "max_width": null,
            "min_height": null,
            "min_width": null,
            "object_fit": null,
            "object_position": null,
            "order": null,
            "overflow": null,
            "overflow_x": null,
            "overflow_y": null,
            "padding": null,
            "right": null,
            "top": null,
            "visibility": null,
            "width": null
          }
        },
        "cb886c985e714209bf4dc3f9905698e9": {
          "model_module": "@jupyter-widgets/controls",
          "model_name": "DescriptionStyleModel",
          "model_module_version": "1.5.0",
          "state": {
            "_model_module": "@jupyter-widgets/controls",
            "_model_module_version": "1.5.0",
            "_model_name": "DescriptionStyleModel",
            "_view_count": null,
            "_view_module": "@jupyter-widgets/base",
            "_view_module_version": "1.2.0",
            "_view_name": "StyleView",
            "description_width": ""
          }
        },
        "f9c4a1f588af44e18dab3b86c3072bea": {
          "model_module": "@jupyter-widgets/base",
          "model_name": "LayoutModel",
          "model_module_version": "1.2.0",
          "state": {
            "_model_module": "@jupyter-widgets/base",
            "_model_module_version": "1.2.0",
            "_model_name": "LayoutModel",
            "_view_count": null,
            "_view_module": "@jupyter-widgets/base",
            "_view_module_version": "1.2.0",
            "_view_name": "LayoutView",
            "align_content": null,
            "align_items": null,
            "align_self": null,
            "border": null,
            "bottom": null,
            "display": null,
            "flex": "2",
            "flex_flow": null,
            "grid_area": null,
            "grid_auto_columns": null,
            "grid_auto_flow": null,
            "grid_auto_rows": null,
            "grid_column": null,
            "grid_gap": null,
            "grid_row": null,
            "grid_template_areas": null,
            "grid_template_columns": null,
            "grid_template_rows": null,
            "height": null,
            "justify_content": null,
            "justify_items": null,
            "left": null,
            "margin": null,
            "max_height": null,
            "max_width": null,
            "min_height": null,
            "min_width": null,
            "object_fit": null,
            "object_position": null,
            "order": null,
            "overflow": null,
            "overflow_x": null,
            "overflow_y": null,
            "padding": null,
            "right": null,
            "top": null,
            "visibility": null,
            "width": null
          }
        },
        "7e8e1cfff8984898bd88d99e8274e0b3": {
          "model_module": "@jupyter-widgets/controls",
          "model_name": "ProgressStyleModel",
          "model_module_version": "1.5.0",
          "state": {
            "_model_module": "@jupyter-widgets/controls",
            "_model_module_version": "1.5.0",
            "_model_name": "ProgressStyleModel",
            "_view_count": null,
            "_view_module": "@jupyter-widgets/base",
            "_view_module_version": "1.2.0",
            "_view_name": "StyleView",
            "bar_color": null,
            "description_width": ""
          }
        },
        "db22438836cf420d972e1c39449e2ece": {
          "model_module": "@jupyter-widgets/base",
          "model_name": "LayoutModel",
          "model_module_version": "1.2.0",
          "state": {
            "_model_module": "@jupyter-widgets/base",
            "_model_module_version": "1.2.0",
            "_model_name": "LayoutModel",
            "_view_count": null,
            "_view_module": "@jupyter-widgets/base",
            "_view_module_version": "1.2.0",
            "_view_name": "LayoutView",
            "align_content": null,
            "align_items": null,
            "align_self": null,
            "border": null,
            "bottom": null,
            "display": null,
            "flex": null,
            "flex_flow": null,
            "grid_area": null,
            "grid_auto_columns": null,
            "grid_auto_flow": null,
            "grid_auto_rows": null,
            "grid_column": null,
            "grid_gap": null,
            "grid_row": null,
            "grid_template_areas": null,
            "grid_template_columns": null,
            "grid_template_rows": null,
            "height": null,
            "justify_content": null,
            "justify_items": null,
            "left": null,
            "margin": null,
            "max_height": null,
            "max_width": null,
            "min_height": null,
            "min_width": null,
            "object_fit": null,
            "object_position": null,
            "order": null,
            "overflow": null,
            "overflow_x": null,
            "overflow_y": null,
            "padding": null,
            "right": null,
            "top": null,
            "visibility": null,
            "width": null
          }
        },
        "e2fba870d0964729b8fac68848a271a0": {
          "model_module": "@jupyter-widgets/controls",
          "model_name": "DescriptionStyleModel",
          "model_module_version": "1.5.0",
          "state": {
            "_model_module": "@jupyter-widgets/controls",
            "_model_module_version": "1.5.0",
            "_model_name": "DescriptionStyleModel",
            "_view_count": null,
            "_view_module": "@jupyter-widgets/base",
            "_view_module_version": "1.2.0",
            "_view_name": "StyleView",
            "description_width": ""
          }
        }
      }
    }
  },
  "cells": [
    {
      "cell_type": "markdown",
      "source": [
        "# Next Word Prediction Model\n",
        "# This script preprocesses text data, trains an LSTM model for next word prediction, and demonstrates the model's capability to generate text. It includes data augmentation, memory-efficient processing, and uses custom metrics for evaluation.\n",
        "\n",
        "Note: This script is designed to run on Google Colab with GPU acceleration."
      ],
      "metadata": {
        "id": "mPp-pEv4cTtU"
      }
    },
    {
      "cell_type": "markdown",
      "source": [
        "## Import Libraries\n"
      ],
      "metadata": {
        "id": "xXiWSh6xdQTa"
      }
    },
    {
      "cell_type": "code",
      "execution_count": 1,
      "metadata": {
        "id": "CNSaOjnBb7yU"
      },
      "outputs": [],
      "source": [
        "import os\n",
        "import string\n",
        "import re\n",
        "from typing import List, Tuple\n",
        "import numpy as np\n",
        "import tensorflow as tf\n",
        "from tensorflow import keras\n",
        "from tensorflow.keras.preprocessing.text import Tokenizer\n",
        "from tensorflow.keras.preprocessing.sequence import pad_sequences\n",
        "from tensorflow.keras.models import Sequential\n",
        "from tensorflow.keras.layers import Dense, LSTM, Embedding, Dropout, Bidirectional\n",
        "from tensorflow.keras.regularizers import l2\n",
        "from tensorflow.keras.optimizers import Adam\n",
        "from tqdm.auto import tqdm\n",
        "from nltk.corpus import wordnet\n",
        "import nltk\n",
        "import joblib\n",
        "import warnings\n",
        "warnings.filterwarnings(\"ignore\")"
      ]
    },
    {
      "cell_type": "code",
      "source": [
        "# Download required NLTK data\n",
        "nltk.download('wordnet', quiet=True)\n",
        "nltk.download('averaged_perceptron_tagger', quiet=True)"
      ],
      "metadata": {
        "colab": {
          "base_uri": "https://localhost:8080/"
        },
        "id": "hzD4EKd8XY-Z",
        "outputId": "ca76d18a-7668-4a40-f773-9400906b3eb3"
      },
      "execution_count": 2,
      "outputs": [
        {
          "output_type": "execute_result",
          "data": {
            "text/plain": [
              "True"
            ]
          },
          "metadata": {},
          "execution_count": 2
        }
      ]
    },
    {
      "cell_type": "code",
      "source": [
        "# Ensure TensorFlow is using GPU\n",
        "print(\"Num GPUs Available: \", len(tf.config.experimental.list_physical_devices('GPU')))\n",
        "tf.config.list_physical_devices('GPU')"
      ],
      "metadata": {
        "colab": {
          "base_uri": "https://localhost:8080/"
        },
        "id": "VrlSJstqcdEL",
        "outputId": "d57e6f53-c3b1-43cf-a0dc-4cf0f34a3886"
      },
      "execution_count": 3,
      "outputs": [
        {
          "output_type": "stream",
          "name": "stdout",
          "text": [
            "Num GPUs Available:  1\n"
          ]
        },
        {
          "output_type": "execute_result",
          "data": {
            "text/plain": [
              "[PhysicalDevice(name='/physical_device:GPU:0', device_type='GPU')]"
            ]
          },
          "metadata": {},
          "execution_count": 3
        }
      ]
    },
    {
      "cell_type": "markdown",
      "source": [
        "## Define Helper Functions"
      ],
      "metadata": {
        "id": "OA0wBpWTddHN"
      }
    },
    {
      "cell_type": "code",
      "source": [
        "def load_doc(filename: str) -> str:\n",
        "    \"\"\"\n",
        "    Load document from file.\n",
        "\n",
        "    Args:\n",
        "        filename (str): Path to the file.\n",
        "\n",
        "    Returns:\n",
        "        str: Content of the file.\n",
        "    \"\"\"\n",
        "    with open(filename, 'r', encoding='utf-8') as file:\n",
        "        text = file.read()\n",
        "    return text\n",
        "\n",
        "def clean_doc(doc: str) -> List[str]:\n",
        "    \"\"\"\n",
        "    Clean the document by removing punctuation and converting to lowercase.\n",
        "\n",
        "    Args:\n",
        "        doc (str): Input document.\n",
        "\n",
        "    Returns:\n",
        "        List[str]: List of cleaned tokens.\n",
        "    \"\"\"\n",
        "    doc = doc.replace('--', ' ')\n",
        "    tokens = doc.split()\n",
        "    table = str.maketrans('', '', string.punctuation)\n",
        "    tokens = [w.translate(table) for w in tokens]\n",
        "    tokens = [word for word in tokens if word.isalpha()]\n",
        "    tokens = [word.lower() for word in tokens]\n",
        "    return tokens\n",
        "\n",
        "def tokenize_twitter(sentences: List[str]) -> List[str]:\n",
        "    \"\"\"\n",
        "    Tokenize and clean sentences with Twitter-specific processing.\n",
        "\n",
        "    Args:\n",
        "        sentences (List[str]): List of input sentences.\n",
        "\n",
        "    Returns:\n",
        "        List[str]: List of cleaned sentences.\n",
        "    \"\"\"\n",
        "    print(\"Starting Cleaning Process\")\n",
        "\n",
        "    def cleanhtml(raw_html: str) -> str:\n",
        "        cleanr = re.compile('<.*?>')\n",
        "        return re.sub(cleanr, '', raw_html)\n",
        "\n",
        "    def _replace_urls(data: str) -> str:\n",
        "        url_pattern = re.compile(r'https?://\\S+|www\\.\\S+')\n",
        "        return url_pattern.sub(r'', data)\n",
        "\n",
        "    def remove_email(data: str) -> str:\n",
        "        return re.sub('\\S*@\\S*\\s?', '', data)\n",
        "\n",
        "    def misc(data: str) -> str:\n",
        "        data = re.sub('\\s+', ' ', data)\n",
        "        data = re.sub(\"\\'\", \"\", data)\n",
        "        data = re.sub(\"ww+\", \"\", data)\n",
        "        MAYBE_ROMAN = re.compile(r'(\\b[MDCLXVI]+\\b)(\\.)?', re.I)\n",
        "        data = re.sub(MAYBE_ROMAN, \"\", data)\n",
        "        return data\n",
        "\n",
        "    tokenized_sentences = []\n",
        "    for sentence in tqdm(sentences, desc=\"Cleaning sentences\", ncols=100):\n",
        "        sentence = cleanhtml(sentence)\n",
        "        sentence = _replace_urls(sentence)\n",
        "        sentence = remove_email(sentence)\n",
        "        sentence = re.sub(r'[^a-zA-Z]', ' ', sentence)\n",
        "        sentence = sentence.lower()\n",
        "        sentence = misc(sentence)\n",
        "        tokenized_sentences.append(sentence)\n",
        "\n",
        "    return tokenized_sentences\n",
        "\n",
        "def littleCleaning(sentences: List[str]) -> List[str]:\n",
        "    \"\"\"\n",
        "    Remove sentences with less than 5 words.\n",
        "\n",
        "    Args:\n",
        "        sentences (List[str]): List of input sentences.\n",
        "\n",
        "    Returns:\n",
        "        List[str]: Filtered list of sentences.\n",
        "    \"\"\"\n",
        "    print(\"Starting cleaning Process\")\n",
        "    return [sentence for sentence in tqdm(sentences, desc=\"Filtering sentences\", ncols=100) if len(sentence.split()) > 5]"
      ],
      "metadata": {
        "id": "9UfFxlx5cc9C"
      },
      "execution_count": 4,
      "outputs": []
    },
    {
      "cell_type": "markdown",
      "source": [
        "## Data Preparation Functions"
      ],
      "metadata": {
        "id": "wypwyuv5do4M"
      }
    },
    {
      "cell_type": "code",
      "source": [
        "def normalization_pipeline(sentences: List[str]) -> List[str]:\n",
        "    \"\"\"\n",
        "    Apply normalization pipeline to the sentences.\n",
        "\n",
        "    Args:\n",
        "        sentences (List[str]): List of input sentences.\n",
        "\n",
        "    Returns:\n",
        "        List[str]: Normalized sentences.\n",
        "    \"\"\"\n",
        "    print(\"Starting Normalization Process\")\n",
        "    sentences = tokenize_twitter(sentences)\n",
        "    sentences = littleCleaning(sentences)\n",
        "    print(\"Normalization Process Finished\")\n",
        "    return sentences\n",
        "\n",
        "def get_synonyms(word: str) -> List[str]:\n",
        "    \"\"\"\n",
        "    Get synonyms for a given word.\n",
        "\n",
        "    Args:\n",
        "        word (str): Input word.\n",
        "\n",
        "    Returns:\n",
        "        List[str]: List of synonyms.\n",
        "    \"\"\"\n",
        "    synonyms = set()\n",
        "    for syn in wordnet.synsets(word):\n",
        "        for lemma in syn.lemmas():\n",
        "            synonym = lemma.name().replace('_', ' ')\n",
        "            if synonym != word:\n",
        "                synonyms.add(synonym)\n",
        "    return list(synonyms)\n",
        "\n",
        "def synonym_replacement(sentence: str, n: int) -> str:\n",
        "    \"\"\"\n",
        "    Replace words in a sentence with their synonyms.\n",
        "\n",
        "    Args:\n",
        "        sentence (str): Input sentence.\n",
        "        n (int): Number of words to replace.\n",
        "\n",
        "    Returns:\n",
        "        str: Sentence with replaced words.\n",
        "    \"\"\"\n",
        "    words = sentence.split()\n",
        "    new_words = words.copy()\n",
        "    random_word_list = list(set([word for word in words if word.isalpha()]))\n",
        "    num_replaced = 0\n",
        "    for random_word in random_word_list:\n",
        "        synonyms = get_synonyms(random_word)\n",
        "        if len(synonyms) >= 1:\n",
        "            synonym = np.random.choice(synonyms)\n",
        "            new_words = [synonym if word == random_word else word for word in new_words]\n",
        "            num_replaced += 1\n",
        "        if num_replaced >= n:\n",
        "            break\n",
        "    return ' '.join(new_words)\n",
        "\n",
        "def augment_data(sentences: List[str], augment_factor: int = 2) -> List[str]:\n",
        "    \"\"\"\n",
        "    Augment data by replacing words with synonyms.\n",
        "\n",
        "    Args:\n",
        "        sentences (List[str]): List of input sentences.\n",
        "        augment_factor (int): Number of augmented sentences to create for each input sentence.\n",
        "\n",
        "    Returns:\n",
        "        List[str]: Augmented list of sentences.\n",
        "    \"\"\"\n",
        "    augmented_sentences = []\n",
        "    for sentence in tqdm(sentences, desc=\"Augmenting data\", ncols=100):\n",
        "        augmented_sentences.append(sentence)\n",
        "        for _ in range(augment_factor - 1):\n",
        "            augmented_sentence = synonym_replacement(sentence, n=int(len(sentence.split()) * 0.1))\n",
        "            augmented_sentences.append(augmented_sentence)\n",
        "    return augmented_sentences\n",
        "\n",
        "def prepare_sequences(tokens: List[str], seq_length: int) -> Tuple[np.ndarray, np.ndarray, Tokenizer, int]:\n",
        "    \"\"\"\n",
        "    Prepare sequences for model training.\n",
        "\n",
        "    Args:\n",
        "        tokens (List[str]): List of tokens.\n",
        "        seq_length (int): Length of each sequence.\n",
        "\n",
        "    Returns:\n",
        "        Tuple[np.ndarray, np.ndarray, Tokenizer, int]: Input sequences, target words, fitted tokenizer, and vocabulary size.\n",
        "    \"\"\"\n",
        "    tokenizer = Tokenizer()\n",
        "    tokenizer.fit_on_texts([' '.join(tokens)])\n",
        "\n",
        "    sequences = []\n",
        "    for i in range(seq_length, len(tokens)):\n",
        "        seq = tokens[i-seq_length:i]\n",
        "        sequences.append(' '.join(seq))\n",
        "\n",
        "    sequences = tokenizer.texts_to_sequences(sequences)\n",
        "\n",
        "    vocab_size = len(tokenizer.word_index) + 1\n",
        "    sequences = np.array(sequences)\n",
        "    X, y = sequences[:, :-1], sequences[:, -1]\n",
        "    y = keras.utils.to_categorical(y, num_classes=vocab_size)\n",
        "\n",
        "    return X, y, tokenizer, vocab_size"
      ],
      "metadata": {
        "id": "00XbgWJfccnH"
      },
      "execution_count": 5,
      "outputs": []
    },
    {
      "cell_type": "markdown",
      "source": [
        "## Model Creation and Training"
      ],
      "metadata": {
        "id": "btOibkhcdwUQ"
      }
    },
    {
      "cell_type": "code",
      "source": [
        "def create_model(vocab_size: int, seq_length: int) -> Sequential:\n",
        "    \"\"\"\n",
        "    Create and compile the LSTM model with regularization and dropout.\n",
        "\n",
        "    Args:\n",
        "        vocab_size (int): Size of the vocabulary.\n",
        "        seq_length (int): Length of input sequences.\n",
        "\n",
        "    Returns:\n",
        "        Sequential: Compiled Keras model.\n",
        "    \"\"\"\n",
        "    model = Sequential([\n",
        "        Embedding(vocab_size, 100, input_length=seq_length),\n",
        "        Bidirectional(LSTM(100, return_sequences=True, kernel_regularizer=l2(1e-5))),\n",
        "        Dropout(0.2),\n",
        "        Bidirectional(LSTM(100, kernel_regularizer=l2(1e-5))),\n",
        "        Dropout(0.2),\n",
        "        Dense(100, activation='relu', kernel_regularizer=l2(1e-5)),\n",
        "        Dropout(0.2),\n",
        "        Dense(vocab_size, activation='softmax')\n",
        "    ])\n",
        "    optimizer = Adam(learning_rate=0.001)\n",
        "    model.compile(loss='categorical_crossentropy', optimizer=optimizer, metrics=['accuracy'])\n",
        "    return model\n",
        "\n",
        "def generate_seq(model: Sequential, tokenizer: Tokenizer, seq_length: int, seed_text: str, n_words: int) -> str:\n",
        "    \"\"\"\n",
        "    Generate a sequence of words from the trained model.\n",
        "\n",
        "    Args:\n",
        "        model (Sequential): Trained Keras model.\n",
        "        tokenizer (Tokenizer): Fitted tokenizer.\n",
        "        seq_length (int): Length of input sequences.\n",
        "        seed_text (str): Initial text to start generation.\n",
        "        n_words (int): Number of words to generate.\n",
        "\n",
        "    Returns:\n",
        "        str: Generated text.\n",
        "    \"\"\"\n",
        "    result = []\n",
        "    in_text = seed_text\n",
        "    for _ in range(n_words):\n",
        "        encoded = tokenizer.texts_to_sequences([in_text])[0]\n",
        "        encoded = pad_sequences([encoded], maxlen=seq_length, truncating='pre')\n",
        "        predict_x = model.predict(encoded, verbose=0)\n",
        "        yhat = np.argmax(predict_x, axis=1)\n",
        "        out_word = ''\n",
        "        for word, index in tokenizer.word_index.items():\n",
        "            if index == yhat:\n",
        "                out_word = word\n",
        "                break\n",
        "        in_text += ' ' + out_word\n",
        "        result.append(out_word)\n",
        "    return ' '.join(result)"
      ],
      "metadata": {
        "id": "cVYOt6z0IPgz"
      },
      "execution_count": 6,
      "outputs": []
    },
    {
      "cell_type": "markdown",
      "source": [
        "## Main Execution"
      ],
      "metadata": {
        "id": "lFFX76cEeD-K"
      }
    },
    {
      "cell_type": "code",
      "source": [
        "# Download the data\n",
        "Data = !wget https://www.gutenberg.org/ebooks/1497.txt.utf-8"
      ],
      "metadata": {
        "id": "iQJYv3Hjg1ss"
      },
      "execution_count": 9,
      "outputs": []
    },
    {
      "cell_type": "code",
      "source": [
        "# Load and preprocess data\n",
        "path = '/content/1497.txt.utf-8'\n",
        "text = load_doc(path)\n",
        "print('Length of the corpus:', len(text))"
      ],
      "metadata": {
        "colab": {
          "base_uri": "https://localhost:8080/"
        },
        "id": "goAQ-44Od-6Q",
        "outputId": "11c9d787-b3f9-42ca-fbfc-ad30b6894df1"
      },
      "execution_count": 10,
      "outputs": [
        {
          "output_type": "stream",
          "name": "stdout",
          "text": [
            "Length of the corpus: 1213712\n"
          ]
        }
      ]
    },
    {
      "cell_type": "code",
      "source": [
        "data_list = text.split(\".\")\n",
        "pro_sentences = normalization_pipeline(data_list)\n",
        "print(\"Number of processed sentences:\", len(pro_sentences))\n",
        "print(\"Sample processed sentences:\", pro_sentences[:5])"
      ],
      "metadata": {
        "colab": {
          "base_uri": "https://localhost:8080/",
          "height": 391,
          "referenced_widgets": [
            "114441388ea148628a344131b8620bc0",
            "ee24963d5fd64f98b303e5ad8bc63de6",
            "0f8db774f277437e9bc46f7b94f7a39e",
            "da2fcb46b8004de5a3889c4e2bd4d8df",
            "e44787b0f269492bace38f6b142e5911",
            "06c6b353fd584ec89f12474d61b6452d",
            "2f4aac0e2b3a4a32b22b75773974c074",
            "dd9ac843c7144b5885b2a7f75fabbd1d",
            "9009a33a0b984f33a21f87f3b02eaa86",
            "37db5ba8d0204ac297fdd295b5173e42",
            "c6a65bfcfbc24082bbc3a70815611242",
            "684db2fbd0f442f691db00aa49d4083a",
            "e9aab23d31e6421d88ec0d9cb9878bd8",
            "739f4d762d14480bb6f699a1b4b5d2c7",
            "9c562fa5bd4545c7b135040e6c530e0b",
            "111da060296e46148a86010c528977b3",
            "b39b4d62637c408f98216f4999d93493",
            "ea7ca9daa08e47f1a24eed935ac440d8",
            "f677f344b9e2483eb5439e4218721406",
            "650ffcec1ea4408c9fe62c5300937234",
            "be7d3fbcf461421286ffe232617269c9",
            "a1103678f70741f1a3d9398e387e7dd3"
          ]
        },
        "id": "Vvgnp5e6d-i8",
        "outputId": "60e313ac-fc53-41c2-d923-11fd22f3ae4f"
      },
      "execution_count": 11,
      "outputs": [
        {
          "output_type": "stream",
          "name": "stdout",
          "text": [
            "Starting Normalization Process\n",
            "Starting Cleaning Process\n"
          ]
        },
        {
          "output_type": "display_data",
          "data": {
            "text/plain": [
              "Cleaning sentences:   0%|                                                  | 0/7313 [00:00<?, ?it/s]"
            ],
            "application/vnd.jupyter.widget-view+json": {
              "version_major": 2,
              "version_minor": 0,
              "model_id": "114441388ea148628a344131b8620bc0"
            }
          },
          "metadata": {}
        },
        {
          "output_type": "stream",
          "name": "stdout",
          "text": [
            "Starting cleaning Process\n"
          ]
        },
        {
          "output_type": "display_data",
          "data": {
            "text/plain": [
              "Filtering sentences:   0%|                                                 | 0/7313 [00:00<?, ?it/s]"
            ],
            "application/vnd.jupyter.widget-view+json": {
              "version_major": 2,
              "version_minor": 0,
              "model_id": "684db2fbd0f442f691db00aa49d4083a"
            }
          },
          "metadata": {}
        },
        {
          "output_type": "stream",
          "name": "stdout",
          "text": [
            "Normalization Process Finished\n",
            "Number of processed sentences: 6390\n",
            "Sample processed sentences: [' the project gutenberg ebook of the republic this ebook is for the use of anyone anywhere in the united states and most other parts of the world at no cost and with almost no restrictions whatsoever', ' you may copy it give it away or re use it under the terms of the project gutenberg license included with this ebook or online at ', ' if you are not located in the united states you will have to check the laws of the country where you are located before using this ebook', ' title the republic author plato translator benjamin jowett release date october ebook most recently updated september language english credits sue asscher and david widger start of the project gutenberg ebook the republic the republic by plato translated by benjamin jowett note see also the republic by plato jowett ebook contents introduction and analysis', ' the republic of plato is the longest of his works with the exception of the laws and is certainly the greatest of them']\n"
          ]
        }
      ]
    },
    {
      "cell_type": "code",
      "source": [
        "# Data Augmentation\n",
        "augmented_sentences = augment_data(pro_sentences)\n",
        "print(\"Number of sentences after augmentation:\", len(augmented_sentences))"
      ],
      "metadata": {
        "colab": {
          "base_uri": "https://localhost:8080/",
          "height": 179,
          "referenced_widgets": [
            "20d7ade7edb34486b67020e0ac6864bf",
            "1463642bdee744aaa11ac4e7b768d9f1",
            "c42ec2ab25b545c998bc1bfe289a770b",
            "723234f21d554755879557965caa29db",
            "f627d91239c341c5a76b890ff10be6e4",
            "7ddaa99cb0c942cb89cf452f6c496bd0",
            "cb886c985e714209bf4dc3f9905698e9",
            "f9c4a1f588af44e18dab3b86c3072bea",
            "7e8e1cfff8984898bd88d99e8274e0b3",
            "db22438836cf420d972e1c39449e2ece",
            "e2fba870d0964729b8fac68848a271a0"
          ]
        },
        "id": "LLcZ57B16mcC",
        "outputId": "b72ed9a0-fa8d-4095-fb4e-664b9065635e"
      },
      "execution_count": 12,
      "outputs": [
        {
          "output_type": "display_data",
          "data": {
            "text/plain": [
              "Augmenting data:   0%|                                                     | 0/6390 [00:00<?, ?it/s]"
            ],
            "application/vnd.jupyter.widget-view+json": {
              "version_major": 2,
              "version_minor": 0,
              "model_id": "20d7ade7edb34486b67020e0ac6864bf"
            }
          },
          "metadata": {}
        },
        {
          "output_type": "stream",
          "name": "stdout",
          "text": [
            "Number of sentences after augmentation: 12780\n"
          ]
        }
      ]
    },
    {
      "cell_type": "code",
      "source": [
        "# Use all processed sentences\n",
        "dataText = \" \".join(augmented_sentences)\n",
        "print(\"Length of preprocessed text:\", len(dataText))\n",
        "print(\"Sample of preprocessed text:\", dataText[:200])"
      ],
      "metadata": {
        "colab": {
          "base_uri": "https://localhost:8080/"
        },
        "id": "QoCVbPQ5d-dN",
        "outputId": "e789d851-c357-4071-dd7c-dde9350bab4b"
      },
      "execution_count": 13,
      "outputs": [
        {
          "output_type": "stream",
          "name": "stdout",
          "text": [
            "Length of preprocessed text: 2393923\n",
            "Sample of preprocessed text:  the project gutenberg ebook of the republic this ebook is for the use of anyone anywhere in the united states and most other parts of the world at no cost and with almost no restrictions whatsoever t\n"
          ]
        }
      ]
    },
    {
      "cell_type": "code",
      "source": [
        "# Clean document and prepare sequences\n",
        "tokens = clean_doc(dataText)\n",
        "print('Total Tokens:', len(tokens))\n",
        "print('Unique Tokens:', len(set(tokens)))\n",
        "print(\"Sample tokens:\", tokens[:20])"
      ],
      "metadata": {
        "colab": {
          "base_uri": "https://localhost:8080/"
        },
        "id": "0_nNds7yeOp5",
        "outputId": "3a1eece9-5c4f-4f5c-eab5-25cf5d75f0d2"
      },
      "execution_count": 14,
      "outputs": [
        {
          "output_type": "stream",
          "name": "stdout",
          "text": [
            "Total Tokens: 438598\n",
            "Unique Tokens: 12653\n",
            "Sample tokens: ['the', 'project', 'gutenberg', 'ebook', 'of', 'the', 'republic', 'this', 'ebook', 'is', 'for', 'the', 'use', 'of', 'anyone', 'anywhere', 'in', 'the', 'united', 'states']\n"
          ]
        }
      ]
    },
    {
      "cell_type": "code",
      "source": [
        "seq_length = 51  # 50 input words + 1 output word\n",
        "X, y, tokenizer, vocab_size = prepare_sequences(tokens, seq_length)\n",
        "print(\"Input shape:\", X.shape)\n",
        "print(\"Output shape:\", y.shape)\n",
        "print(\"Vocabulary size:\", vocab_size)"
      ],
      "metadata": {
        "colab": {
          "base_uri": "https://localhost:8080/"
        },
        "id": "CAf6-hPkeOjQ",
        "outputId": "a7d02004-7562-4a9a-b144-6b098f3a2707"
      },
      "execution_count": 15,
      "outputs": [
        {
          "output_type": "stream",
          "name": "stdout",
          "text": [
            "Input shape: (438547, 50)\n",
            "Output shape: (438547, 12654)\n",
            "Vocabulary size: 12654\n"
          ]
        }
      ]
    },
    {
      "cell_type": "code",
      "source": [
        "# Create and train the model\n",
        "model = create_model(vocab_size, seq_length-1)\n",
        "\n",
        "history = model.fit(\n",
        "    X, y,\n",
        "    epochs=100,\n",
        "    batch_size=1024,\n",
        "    verbose=1\n",
        ")"
      ],
      "metadata": {
        "colab": {
          "base_uri": "https://localhost:8080/"
        },
        "id": "5rb8L1HsQfdB",
        "outputId": "e8446e0a-59ab-4e88-8068-26ad8c42806a"
      },
      "execution_count": 16,
      "outputs": [
        {
          "output_type": "stream",
          "name": "stdout",
          "text": [
            "Epoch 1/100\n",
            "\u001b[1m429/429\u001b[0m \u001b[32m━━━━━━━━━━━━━━━━━━━━\u001b[0m\u001b[37m\u001b[0m \u001b[1m31s\u001b[0m 54ms/step - accuracy: 0.0730 - loss: 6.8627\n",
            "Epoch 2/100\n",
            "\u001b[1m429/429\u001b[0m \u001b[32m━━━━━━━━━━━━━━━━━━━━\u001b[0m\u001b[37m\u001b[0m \u001b[1m23s\u001b[0m 54ms/step - accuracy: 0.1167 - loss: 5.9787\n",
            "Epoch 3/100\n",
            "\u001b[1m429/429\u001b[0m \u001b[32m━━━━━━━━━━━━━━━━━━━━\u001b[0m\u001b[37m\u001b[0m \u001b[1m23s\u001b[0m 54ms/step - accuracy: 0.1337 - loss: 5.7928\n",
            "Epoch 4/100\n",
            "\u001b[1m429/429\u001b[0m \u001b[32m━━━━━━━━━━━━━━━━━━━━\u001b[0m\u001b[37m\u001b[0m \u001b[1m23s\u001b[0m 54ms/step - accuracy: 0.1476 - loss: 5.6638\n",
            "Epoch 5/100\n",
            "\u001b[1m429/429\u001b[0m \u001b[32m━━━━━━━━━━━━━━━━━━━━\u001b[0m\u001b[37m\u001b[0m \u001b[1m23s\u001b[0m 54ms/step - accuracy: 0.1563 - loss: 5.5415\n",
            "Epoch 6/100\n",
            "\u001b[1m429/429\u001b[0m \u001b[32m━━━━━━━━━━━━━━━━━━━━\u001b[0m\u001b[37m\u001b[0m \u001b[1m23s\u001b[0m 54ms/step - accuracy: 0.1597 - loss: 5.4588\n",
            "Epoch 7/100\n",
            "\u001b[1m429/429\u001b[0m \u001b[32m━━━━━━━━━━━━━━━━━━━━\u001b[0m\u001b[37m\u001b[0m \u001b[1m23s\u001b[0m 54ms/step - accuracy: 0.1628 - loss: 5.3890\n",
            "Epoch 8/100\n",
            "\u001b[1m429/429\u001b[0m \u001b[32m━━━━━━━━━━━━━━━━━━━━\u001b[0m\u001b[37m\u001b[0m \u001b[1m23s\u001b[0m 54ms/step - accuracy: 0.1665 - loss: 5.3140\n",
            "Epoch 9/100\n",
            "\u001b[1m429/429\u001b[0m \u001b[32m━━━━━━━━━━━━━━━━━━━━\u001b[0m\u001b[37m\u001b[0m \u001b[1m23s\u001b[0m 54ms/step - accuracy: 0.1719 - loss: 5.2327\n",
            "Epoch 10/100\n",
            "\u001b[1m429/429\u001b[0m \u001b[32m━━━━━━━━━━━━━━━━━━━━\u001b[0m\u001b[37m\u001b[0m \u001b[1m23s\u001b[0m 54ms/step - accuracy: 0.1746 - loss: 5.1658\n",
            "Epoch 11/100\n",
            "\u001b[1m429/429\u001b[0m \u001b[32m━━━━━━━━━━━━━━━━━━━━\u001b[0m\u001b[37m\u001b[0m \u001b[1m23s\u001b[0m 54ms/step - accuracy: 0.1782 - loss: 5.1071\n",
            "Epoch 12/100\n",
            "\u001b[1m429/429\u001b[0m \u001b[32m━━━━━━━━━━━━━━━━━━━━\u001b[0m\u001b[37m\u001b[0m \u001b[1m23s\u001b[0m 54ms/step - accuracy: 0.1819 - loss: 5.0338\n",
            "Epoch 13/100\n",
            "\u001b[1m429/429\u001b[0m \u001b[32m━━━━━━━━━━━━━━━━━━━━\u001b[0m\u001b[37m\u001b[0m \u001b[1m23s\u001b[0m 54ms/step - accuracy: 0.1833 - loss: 4.9858\n",
            "Epoch 14/100\n",
            "\u001b[1m429/429\u001b[0m \u001b[32m━━━━━━━━━━━━━━━━━━━━\u001b[0m\u001b[37m\u001b[0m \u001b[1m23s\u001b[0m 54ms/step - accuracy: 0.1860 - loss: 4.9363\n",
            "Epoch 15/100\n",
            "\u001b[1m429/429\u001b[0m \u001b[32m━━━━━━━━━━━━━━━━━━━━\u001b[0m\u001b[37m\u001b[0m \u001b[1m23s\u001b[0m 54ms/step - accuracy: 0.1889 - loss: 4.8765\n",
            "Epoch 16/100\n",
            "\u001b[1m429/429\u001b[0m \u001b[32m━━━━━━━━━━━━━━━━━━━━\u001b[0m\u001b[37m\u001b[0m \u001b[1m23s\u001b[0m 54ms/step - accuracy: 0.1905 - loss: 4.8258\n",
            "Epoch 17/100\n",
            "\u001b[1m429/429\u001b[0m \u001b[32m━━━━━━━━━━━━━━━━━━━━\u001b[0m\u001b[37m\u001b[0m \u001b[1m23s\u001b[0m 54ms/step - accuracy: 0.1928 - loss: 4.7709\n",
            "Epoch 18/100\n",
            "\u001b[1m429/429\u001b[0m \u001b[32m━━━━━━━━━━━━━━━━━━━━\u001b[0m\u001b[37m\u001b[0m \u001b[1m23s\u001b[0m 54ms/step - accuracy: 0.1955 - loss: 4.7244\n",
            "Epoch 19/100\n",
            "\u001b[1m429/429\u001b[0m \u001b[32m━━━━━━━━━━━━━━━━━━━━\u001b[0m\u001b[37m\u001b[0m \u001b[1m23s\u001b[0m 54ms/step - accuracy: 0.1971 - loss: 4.6840\n",
            "Epoch 20/100\n",
            "\u001b[1m429/429\u001b[0m \u001b[32m━━━━━━━━━━━━━━━━━━━━\u001b[0m\u001b[37m\u001b[0m \u001b[1m23s\u001b[0m 54ms/step - accuracy: 0.2001 - loss: 4.6354\n",
            "Epoch 21/100\n",
            "\u001b[1m429/429\u001b[0m \u001b[32m━━━━━━━━━━━━━━━━━━━━\u001b[0m\u001b[37m\u001b[0m \u001b[1m23s\u001b[0m 54ms/step - accuracy: 0.2042 - loss: 4.5905\n",
            "Epoch 22/100\n",
            "\u001b[1m429/429\u001b[0m \u001b[32m━━━━━━━━━━━━━━━━━━━━\u001b[0m\u001b[37m\u001b[0m \u001b[1m23s\u001b[0m 54ms/step - accuracy: 0.2043 - loss: 4.5496\n",
            "Epoch 23/100\n",
            "\u001b[1m429/429\u001b[0m \u001b[32m━━━━━━━━━━━━━━━━━━━━\u001b[0m\u001b[37m\u001b[0m \u001b[1m23s\u001b[0m 54ms/step - accuracy: 0.2063 - loss: 4.5321\n",
            "Epoch 24/100\n",
            "\u001b[1m429/429\u001b[0m \u001b[32m━━━━━━━━━━━━━━━━━━━━\u001b[0m\u001b[37m\u001b[0m \u001b[1m23s\u001b[0m 54ms/step - accuracy: 0.2081 - loss: 4.5007\n",
            "Epoch 25/100\n",
            "\u001b[1m429/429\u001b[0m \u001b[32m━━━━━━━━━━━━━━━━━━━━\u001b[0m\u001b[37m\u001b[0m \u001b[1m23s\u001b[0m 54ms/step - accuracy: 0.2126 - loss: 4.4427\n",
            "Epoch 26/100\n",
            "\u001b[1m429/429\u001b[0m \u001b[32m━━━━━━━━━━━━━━━━━━━━\u001b[0m\u001b[37m\u001b[0m \u001b[1m23s\u001b[0m 54ms/step - accuracy: 0.2145 - loss: 4.4083\n",
            "Epoch 27/100\n",
            "\u001b[1m429/429\u001b[0m \u001b[32m━━━━━━━━━━━━━━━━━━━━\u001b[0m\u001b[37m\u001b[0m \u001b[1m23s\u001b[0m 54ms/step - accuracy: 0.2181 - loss: 4.3742\n",
            "Epoch 28/100\n",
            "\u001b[1m429/429\u001b[0m \u001b[32m━━━━━━━━━━━━━━━━━━━━\u001b[0m\u001b[37m\u001b[0m \u001b[1m23s\u001b[0m 54ms/step - accuracy: 0.2211 - loss: 4.3373\n",
            "Epoch 29/100\n",
            "\u001b[1m429/429\u001b[0m \u001b[32m━━━━━━━━━━━━━━━━━━━━\u001b[0m\u001b[37m\u001b[0m \u001b[1m23s\u001b[0m 54ms/step - accuracy: 0.2220 - loss: 4.3104\n",
            "Epoch 30/100\n",
            "\u001b[1m429/429\u001b[0m \u001b[32m━━━━━━━━━━━━━━━━━━━━\u001b[0m\u001b[37m\u001b[0m \u001b[1m23s\u001b[0m 54ms/step - accuracy: 0.2264 - loss: 4.2724\n",
            "Epoch 31/100\n",
            "\u001b[1m429/429\u001b[0m \u001b[32m━━━━━━━━━━━━━━━━━━━━\u001b[0m\u001b[37m\u001b[0m \u001b[1m23s\u001b[0m 54ms/step - accuracy: 0.2282 - loss: 4.2431\n",
            "Epoch 32/100\n",
            "\u001b[1m429/429\u001b[0m \u001b[32m━━━━━━━━━━━━━━━━━━━━\u001b[0m\u001b[37m\u001b[0m \u001b[1m23s\u001b[0m 54ms/step - accuracy: 0.2309 - loss: 4.2101\n",
            "Epoch 33/100\n",
            "\u001b[1m429/429\u001b[0m \u001b[32m━━━━━━━━━━━━━━━━━━━━\u001b[0m\u001b[37m\u001b[0m \u001b[1m23s\u001b[0m 54ms/step - accuracy: 0.2323 - loss: 4.1832\n",
            "Epoch 34/100\n",
            "\u001b[1m429/429\u001b[0m \u001b[32m━━━━━━━━━━━━━━━━━━━━\u001b[0m\u001b[37m\u001b[0m \u001b[1m23s\u001b[0m 54ms/step - accuracy: 0.2355 - loss: 4.1588\n",
            "Epoch 35/100\n",
            "\u001b[1m429/429\u001b[0m \u001b[32m━━━━━━━━━━━━━━━━━━━━\u001b[0m\u001b[37m\u001b[0m \u001b[1m23s\u001b[0m 53ms/step - accuracy: 0.2390 - loss: 4.1292\n",
            "Epoch 36/100\n",
            "\u001b[1m429/429\u001b[0m \u001b[32m━━━━━━━━━━━━━━━━━━━━\u001b[0m\u001b[37m\u001b[0m \u001b[1m23s\u001b[0m 53ms/step - accuracy: 0.2406 - loss: 4.1017\n",
            "Epoch 37/100\n",
            "\u001b[1m429/429\u001b[0m \u001b[32m━━━━━━━━━━━━━━━━━━━━\u001b[0m\u001b[37m\u001b[0m \u001b[1m23s\u001b[0m 54ms/step - accuracy: 0.2436 - loss: 4.0683\n",
            "Epoch 38/100\n",
            "\u001b[1m429/429\u001b[0m \u001b[32m━━━━━━━━━━━━━━━━━━━━\u001b[0m\u001b[37m\u001b[0m \u001b[1m23s\u001b[0m 54ms/step - accuracy: 0.2461 - loss: 4.0495\n",
            "Epoch 39/100\n",
            "\u001b[1m429/429\u001b[0m \u001b[32m━━━━━━━━━━━━━━━━━━━━\u001b[0m\u001b[37m\u001b[0m \u001b[1m23s\u001b[0m 54ms/step - accuracy: 0.2471 - loss: 4.0205\n",
            "Epoch 40/100\n",
            "\u001b[1m429/429\u001b[0m \u001b[32m━━━━━━━━━━━━━━━━━━━━\u001b[0m\u001b[37m\u001b[0m \u001b[1m23s\u001b[0m 54ms/step - accuracy: 0.2502 - loss: 4.0049\n",
            "Epoch 41/100\n",
            "\u001b[1m429/429\u001b[0m \u001b[32m━━━━━━━━━━━━━━━━━━━━\u001b[0m\u001b[37m\u001b[0m \u001b[1m23s\u001b[0m 54ms/step - accuracy: 0.2533 - loss: 3.9756\n",
            "Epoch 42/100\n",
            "\u001b[1m429/429\u001b[0m \u001b[32m━━━━━━━━━━━━━━━━━━━━\u001b[0m\u001b[37m\u001b[0m \u001b[1m23s\u001b[0m 54ms/step - accuracy: 0.2560 - loss: 3.9489\n",
            "Epoch 43/100\n",
            "\u001b[1m429/429\u001b[0m \u001b[32m━━━━━━━━━━━━━━━━━━━━\u001b[0m\u001b[37m\u001b[0m \u001b[1m23s\u001b[0m 54ms/step - accuracy: 0.2586 - loss: 3.9275\n",
            "Epoch 44/100\n",
            "\u001b[1m429/429\u001b[0m \u001b[32m━━━━━━━━━━━━━━━━━━━━\u001b[0m\u001b[37m\u001b[0m \u001b[1m23s\u001b[0m 54ms/step - accuracy: 0.2604 - loss: 3.9067\n",
            "Epoch 45/100\n",
            "\u001b[1m429/429\u001b[0m \u001b[32m━━━━━━━━━━━━━━━━━━━━\u001b[0m\u001b[37m\u001b[0m \u001b[1m23s\u001b[0m 54ms/step - accuracy: 0.2634 - loss: 3.8870\n",
            "Epoch 46/100\n",
            "\u001b[1m429/429\u001b[0m \u001b[32m━━━━━━━━━━━━━━━━━━━━\u001b[0m\u001b[37m\u001b[0m \u001b[1m23s\u001b[0m 54ms/step - accuracy: 0.2656 - loss: 3.8618\n",
            "Epoch 47/100\n",
            "\u001b[1m429/429\u001b[0m \u001b[32m━━━━━━━━━━━━━━━━━━━━\u001b[0m\u001b[37m\u001b[0m \u001b[1m23s\u001b[0m 54ms/step - accuracy: 0.2668 - loss: 3.8447\n",
            "Epoch 48/100\n",
            "\u001b[1m429/429\u001b[0m \u001b[32m━━━━━━━━━━━━━━━━━━━━\u001b[0m\u001b[37m\u001b[0m \u001b[1m23s\u001b[0m 54ms/step - accuracy: 0.2698 - loss: 3.8238\n",
            "Epoch 49/100\n",
            "\u001b[1m429/429\u001b[0m \u001b[32m━━━━━━━━━━━━━━━━━━━━\u001b[0m\u001b[37m\u001b[0m \u001b[1m23s\u001b[0m 54ms/step - accuracy: 0.2720 - loss: 3.8093\n",
            "Epoch 50/100\n",
            "\u001b[1m429/429\u001b[0m \u001b[32m━━━━━━━━━━━━━━━━━━━━\u001b[0m\u001b[37m\u001b[0m \u001b[1m23s\u001b[0m 54ms/step - accuracy: 0.2747 - loss: 3.7837\n",
            "Epoch 51/100\n",
            "\u001b[1m429/429\u001b[0m \u001b[32m━━━━━━━━━━━━━━━━━━━━\u001b[0m\u001b[37m\u001b[0m \u001b[1m23s\u001b[0m 54ms/step - accuracy: 0.2787 - loss: 3.7609\n",
            "Epoch 52/100\n",
            "\u001b[1m429/429\u001b[0m \u001b[32m━━━━━━━━━━━━━━━━━━━━\u001b[0m\u001b[37m\u001b[0m \u001b[1m23s\u001b[0m 54ms/step - accuracy: 0.2783 - loss: 3.7456\n",
            "Epoch 53/100\n",
            "\u001b[1m429/429\u001b[0m \u001b[32m━━━━━━━━━━━━━━━━━━━━\u001b[0m\u001b[37m\u001b[0m \u001b[1m23s\u001b[0m 54ms/step - accuracy: 0.2814 - loss: 3.7258\n",
            "Epoch 54/100\n",
            "\u001b[1m429/429\u001b[0m \u001b[32m━━━━━━━━━━━━━━━━━━━━\u001b[0m\u001b[37m\u001b[0m \u001b[1m23s\u001b[0m 54ms/step - accuracy: 0.2846 - loss: 3.7023\n",
            "Epoch 55/100\n",
            "\u001b[1m429/429\u001b[0m \u001b[32m━━━━━━━━━━━━━━━━━━━━\u001b[0m\u001b[37m\u001b[0m \u001b[1m23s\u001b[0m 54ms/step - accuracy: 0.2869 - loss: 3.6863\n",
            "Epoch 56/100\n",
            "\u001b[1m429/429\u001b[0m \u001b[32m━━━━━━━━━━━━━━━━━━━━\u001b[0m\u001b[37m\u001b[0m \u001b[1m23s\u001b[0m 54ms/step - accuracy: 0.2905 - loss: 3.6608\n",
            "Epoch 57/100\n",
            "\u001b[1m429/429\u001b[0m \u001b[32m━━━━━━━━━━━━━━━━━━━━\u001b[0m\u001b[37m\u001b[0m \u001b[1m23s\u001b[0m 54ms/step - accuracy: 0.2895 - loss: 3.6619\n",
            "Epoch 58/100\n",
            "\u001b[1m429/429\u001b[0m \u001b[32m━━━━━━━━━━━━━━━━━━━━\u001b[0m\u001b[37m\u001b[0m \u001b[1m23s\u001b[0m 54ms/step - accuracy: 0.2911 - loss: 3.6353\n",
            "Epoch 59/100\n",
            "\u001b[1m429/429\u001b[0m \u001b[32m━━━━━━━━━━━━━━━━━━━━\u001b[0m\u001b[37m\u001b[0m \u001b[1m23s\u001b[0m 54ms/step - accuracy: 0.2941 - loss: 3.6195\n",
            "Epoch 60/100\n",
            "\u001b[1m429/429\u001b[0m \u001b[32m━━━━━━━━━━━━━━━━━━━━\u001b[0m\u001b[37m\u001b[0m \u001b[1m23s\u001b[0m 54ms/step - accuracy: 0.2973 - loss: 3.6013\n",
            "Epoch 61/100\n",
            "\u001b[1m429/429\u001b[0m \u001b[32m━━━━━━━━━━━━━━━━━━━━\u001b[0m\u001b[37m\u001b[0m \u001b[1m23s\u001b[0m 54ms/step - accuracy: 0.2976 - loss: 3.5811\n",
            "Epoch 62/100\n",
            "\u001b[1m429/429\u001b[0m \u001b[32m━━━━━━━━━━━━━━━━━━━━\u001b[0m\u001b[37m\u001b[0m \u001b[1m23s\u001b[0m 54ms/step - accuracy: 0.3002 - loss: 3.5697\n",
            "Epoch 63/100\n",
            "\u001b[1m429/429\u001b[0m \u001b[32m━━━━━━━━━━━━━━━━━━━━\u001b[0m\u001b[37m\u001b[0m \u001b[1m23s\u001b[0m 54ms/step - accuracy: 0.3018 - loss: 3.5601\n",
            "Epoch 64/100\n",
            "\u001b[1m429/429\u001b[0m \u001b[32m━━━━━━━━━━━━━━━━━━━━\u001b[0m\u001b[37m\u001b[0m \u001b[1m23s\u001b[0m 54ms/step - accuracy: 0.3057 - loss: 3.5354\n",
            "Epoch 65/100\n",
            "\u001b[1m429/429\u001b[0m \u001b[32m━━━━━━━━━━━━━━━━━━━━\u001b[0m\u001b[37m\u001b[0m \u001b[1m23s\u001b[0m 54ms/step - accuracy: 0.3066 - loss: 3.5223\n",
            "Epoch 66/100\n",
            "\u001b[1m429/429\u001b[0m \u001b[32m━━━━━━━━━━━━━━━━━━━━\u001b[0m\u001b[37m\u001b[0m \u001b[1m23s\u001b[0m 54ms/step - accuracy: 0.3100 - loss: 3.5061\n",
            "Epoch 67/100\n",
            "\u001b[1m429/429\u001b[0m \u001b[32m━━━━━━━━━━━━━━━━━━━━\u001b[0m\u001b[37m\u001b[0m \u001b[1m23s\u001b[0m 54ms/step - accuracy: 0.3097 - loss: 3.4962\n",
            "Epoch 68/100\n",
            "\u001b[1m429/429\u001b[0m \u001b[32m━━━━━━━━━━━━━━━━━━━━\u001b[0m\u001b[37m\u001b[0m \u001b[1m23s\u001b[0m 54ms/step - accuracy: 0.3135 - loss: 3.4739\n",
            "Epoch 69/100\n",
            "\u001b[1m429/429\u001b[0m \u001b[32m━━━━━━━━━━━━━━━━━━━━\u001b[0m\u001b[37m\u001b[0m \u001b[1m23s\u001b[0m 54ms/step - accuracy: 0.3134 - loss: 3.4629\n",
            "Epoch 70/100\n",
            "\u001b[1m429/429\u001b[0m \u001b[32m━━━━━━━━━━━━━━━━━━━━\u001b[0m\u001b[37m\u001b[0m \u001b[1m23s\u001b[0m 54ms/step - accuracy: 0.3166 - loss: 3.4420\n",
            "Epoch 71/100\n",
            "\u001b[1m429/429\u001b[0m \u001b[32m━━━━━━━━━━━━━━━━━━━━\u001b[0m\u001b[37m\u001b[0m \u001b[1m23s\u001b[0m 54ms/step - accuracy: 0.3185 - loss: 3.4328\n",
            "Epoch 72/100\n",
            "\u001b[1m429/429\u001b[0m \u001b[32m━━━━━━━━━━━━━━━━━━━━\u001b[0m\u001b[37m\u001b[0m \u001b[1m23s\u001b[0m 54ms/step - accuracy: 0.3202 - loss: 3.4196\n",
            "Epoch 73/100\n",
            "\u001b[1m429/429\u001b[0m \u001b[32m━━━━━━━━━━━━━━━━━━━━\u001b[0m\u001b[37m\u001b[0m \u001b[1m24s\u001b[0m 55ms/step - accuracy: 0.3220 - loss: 3.4026\n",
            "Epoch 74/100\n",
            "\u001b[1m429/429\u001b[0m \u001b[32m━━━━━━━━━━━━━━━━━━━━\u001b[0m\u001b[37m\u001b[0m \u001b[1m23s\u001b[0m 54ms/step - accuracy: 0.3242 - loss: 3.3906\n",
            "Epoch 75/100\n",
            "\u001b[1m429/429\u001b[0m \u001b[32m━━━━━━━━━━━━━━━━━━━━\u001b[0m\u001b[37m\u001b[0m \u001b[1m23s\u001b[0m 54ms/step - accuracy: 0.3270 - loss: 3.3768\n",
            "Epoch 76/100\n",
            "\u001b[1m429/429\u001b[0m \u001b[32m━━━━━━━━━━━━━━━━━━━━\u001b[0m\u001b[37m\u001b[0m \u001b[1m23s\u001b[0m 54ms/step - accuracy: 0.3280 - loss: 3.3623\n",
            "Epoch 77/100\n",
            "\u001b[1m429/429\u001b[0m \u001b[32m━━━━━━━━━━━━━━━━━━━━\u001b[0m\u001b[37m\u001b[0m \u001b[1m23s\u001b[0m 54ms/step - accuracy: 0.3306 - loss: 3.3448\n",
            "Epoch 78/100\n",
            "\u001b[1m429/429\u001b[0m \u001b[32m━━━━━━━━━━━━━━━━━━━━\u001b[0m\u001b[37m\u001b[0m \u001b[1m23s\u001b[0m 54ms/step - accuracy: 0.3337 - loss: 3.3289\n",
            "Epoch 79/100\n",
            "\u001b[1m429/429\u001b[0m \u001b[32m━━━━━━━━━━━━━━━━━━━━\u001b[0m\u001b[37m\u001b[0m \u001b[1m23s\u001b[0m 54ms/step - accuracy: 0.3332 - loss: 3.3229\n",
            "Epoch 80/100\n",
            "\u001b[1m429/429\u001b[0m \u001b[32m━━━━━━━━━━━━━━━━━━━━\u001b[0m\u001b[37m\u001b[0m \u001b[1m23s\u001b[0m 54ms/step - accuracy: 0.3363 - loss: 3.3047\n",
            "Epoch 81/100\n",
            "\u001b[1m429/429\u001b[0m \u001b[32m━━━━━━━━━━━━━━━━━━━━\u001b[0m\u001b[37m\u001b[0m \u001b[1m23s\u001b[0m 54ms/step - accuracy: 0.3371 - loss: 3.2982\n",
            "Epoch 82/100\n",
            "\u001b[1m429/429\u001b[0m \u001b[32m━━━━━━━━━━━━━━━━━━━━\u001b[0m\u001b[37m\u001b[0m \u001b[1m23s\u001b[0m 54ms/step - accuracy: 0.3385 - loss: 3.2865\n",
            "Epoch 83/100\n",
            "\u001b[1m429/429\u001b[0m \u001b[32m━━━━━━━━━━━━━━━━━━━━\u001b[0m\u001b[37m\u001b[0m \u001b[1m23s\u001b[0m 54ms/step - accuracy: 0.3413 - loss: 3.2724\n",
            "Epoch 84/100\n",
            "\u001b[1m429/429\u001b[0m \u001b[32m━━━━━━━━━━━━━━━━━━━━\u001b[0m\u001b[37m\u001b[0m \u001b[1m23s\u001b[0m 54ms/step - accuracy: 0.3424 - loss: 3.2600\n",
            "Epoch 85/100\n",
            "\u001b[1m429/429\u001b[0m \u001b[32m━━━━━━━━━━━━━━━━━━━━\u001b[0m\u001b[37m\u001b[0m \u001b[1m23s\u001b[0m 54ms/step - accuracy: 0.3436 - loss: 3.2534\n",
            "Epoch 86/100\n",
            "\u001b[1m429/429\u001b[0m \u001b[32m━━━━━━━━━━━━━━━━━━━━\u001b[0m\u001b[37m\u001b[0m \u001b[1m23s\u001b[0m 54ms/step - accuracy: 0.3471 - loss: 3.2347\n",
            "Epoch 87/100\n",
            "\u001b[1m429/429\u001b[0m \u001b[32m━━━━━━━━━━━━━━━━━━━━\u001b[0m\u001b[37m\u001b[0m \u001b[1m23s\u001b[0m 54ms/step - accuracy: 0.3471 - loss: 3.2282\n",
            "Epoch 88/100\n",
            "\u001b[1m429/429\u001b[0m \u001b[32m━━━━━━━━━━━━━━━━━━━━\u001b[0m\u001b[37m\u001b[0m \u001b[1m23s\u001b[0m 54ms/step - accuracy: 0.3493 - loss: 3.2111\n",
            "Epoch 89/100\n",
            "\u001b[1m429/429\u001b[0m \u001b[32m━━━━━━━━━━━━━━━━━━━━\u001b[0m\u001b[37m\u001b[0m \u001b[1m23s\u001b[0m 54ms/step - accuracy: 0.3531 - loss: 3.1898\n",
            "Epoch 90/100\n",
            "\u001b[1m429/429\u001b[0m \u001b[32m━━━━━━━━━━━━━━━━━━━━\u001b[0m\u001b[37m\u001b[0m \u001b[1m23s\u001b[0m 54ms/step - accuracy: 0.3537 - loss: 3.1864\n",
            "Epoch 91/100\n",
            "\u001b[1m429/429\u001b[0m \u001b[32m━━━━━━━━━━━━━━━━━━━━\u001b[0m\u001b[37m\u001b[0m \u001b[1m23s\u001b[0m 54ms/step - accuracy: 0.3552 - loss: 3.1728\n",
            "Epoch 92/100\n",
            "\u001b[1m429/429\u001b[0m \u001b[32m━━━━━━━━━━━━━━━━━━━━\u001b[0m\u001b[37m\u001b[0m \u001b[1m23s\u001b[0m 54ms/step - accuracy: 0.3565 - loss: 3.1687\n",
            "Epoch 93/100\n",
            "\u001b[1m429/429\u001b[0m \u001b[32m━━━━━━━━━━━━━━━━━━━━\u001b[0m\u001b[37m\u001b[0m \u001b[1m23s\u001b[0m 54ms/step - accuracy: 0.3573 - loss: 3.1589\n",
            "Epoch 94/100\n",
            "\u001b[1m429/429\u001b[0m \u001b[32m━━━━━━━━━━━━━━━━━━━━\u001b[0m\u001b[37m\u001b[0m \u001b[1m23s\u001b[0m 54ms/step - accuracy: 0.3599 - loss: 3.1414\n",
            "Epoch 95/100\n",
            "\u001b[1m429/429\u001b[0m \u001b[32m━━━━━━━━━━━━━━━━━━━━\u001b[0m\u001b[37m\u001b[0m \u001b[1m23s\u001b[0m 54ms/step - accuracy: 0.3614 - loss: 3.1283\n",
            "Epoch 96/100\n",
            "\u001b[1m429/429\u001b[0m \u001b[32m━━━━━━━━━━━━━━━━━━━━\u001b[0m\u001b[37m\u001b[0m \u001b[1m23s\u001b[0m 54ms/step - accuracy: 0.3646 - loss: 3.1109\n",
            "Epoch 97/100\n",
            "\u001b[1m429/429\u001b[0m \u001b[32m━━━━━━━━━━━━━━━━━━━━\u001b[0m\u001b[37m\u001b[0m \u001b[1m23s\u001b[0m 54ms/step - accuracy: 0.3636 - loss: 3.1196\n",
            "Epoch 98/100\n",
            "\u001b[1m429/429\u001b[0m \u001b[32m━━━━━━━━━━━━━━━━━━━━\u001b[0m\u001b[37m\u001b[0m \u001b[1m23s\u001b[0m 54ms/step - accuracy: 0.3651 - loss: 3.1011\n",
            "Epoch 99/100\n",
            "\u001b[1m429/429\u001b[0m \u001b[32m━━━━━━━━━━━━━━━━━━━━\u001b[0m\u001b[37m\u001b[0m \u001b[1m23s\u001b[0m 54ms/step - accuracy: 0.3678 - loss: 3.0913\n",
            "Epoch 100/100\n",
            "\u001b[1m429/429\u001b[0m \u001b[32m━━━━━━━━━━━━━━━━━━━━\u001b[0m\u001b[37m\u001b[0m \u001b[1m23s\u001b[0m 54ms/step - accuracy: 0.3679 - loss: 3.0833\n"
          ]
        }
      ]
    },
    {
      "cell_type": "code",
      "source": [
        "# Save the model and tokenizer\n",
        "model.save(\"next_word_prediction_model.keras\")\n",
        "joblib.dump(tokenizer, 'tokenizer.joblib')"
      ],
      "metadata": {
        "colab": {
          "base_uri": "https://localhost:8080/"
        },
        "id": "5Afv2HCpeZIW",
        "outputId": "a397d4f2-55ff-4fcd-d719-69fa523d191c"
      },
      "execution_count": 17,
      "outputs": [
        {
          "output_type": "execute_result",
          "data": {
            "text/plain": [
              "['tokenizer.joblib']"
            ]
          },
          "metadata": {},
          "execution_count": 17
        }
      ]
    },
    {
      "cell_type": "code",
      "source": [
        "# Generate new text using the trained model\n",
        "seed_text = \" \".join(tokens[:50])\n",
        "next_words = generate_seq(model, tokenizer, seq_length-1, seed_text, 6)\n",
        "print(\"Seed text:\", seed_text)\n",
        "print(\"Next 6 words:\", next_words)"
      ],
      "metadata": {
        "colab": {
          "base_uri": "https://localhost:8080/"
        },
        "id": "hNl0LHTcehGz",
        "outputId": "e6dfc9d8-787b-4c77-866d-01b7ca7394f0"
      },
      "execution_count": 19,
      "outputs": [
        {
          "output_type": "stream",
          "name": "stdout",
          "text": [
            "Seed text: the project gutenberg ebook of the republic this ebook is for the use of anyone anywhere in the united states and most other parts of the world at no cost and with almost no restrictions whatsoever the picture gutenberg ebook of the republic this ebook is for the use of\n",
            "Next 6 words: anyone anywhere in the united states\n"
          ]
        }
      ]
    },
    {
      "cell_type": "code",
      "source": [
        "# Demonstrate the prediction in context\n",
        "full_text = seed_text + \" \" + next_words\n",
        "print(\"\\nFull text with prediction:\")\n",
        "print(full_text)"
      ],
      "metadata": {
        "colab": {
          "base_uri": "https://localhost:8080/"
        },
        "id": "x8Xg2jSoiK0J",
        "outputId": "a95c24d5-0411-4504-ba2f-584feff14f10"
      },
      "execution_count": 20,
      "outputs": [
        {
          "output_type": "stream",
          "name": "stdout",
          "text": [
            "\n",
            "Full text with prediction:\n",
            "the project gutenberg ebook of the republic this ebook is for the use of anyone anywhere in the united states and most other parts of the world at no cost and with almost no restrictions whatsoever the picture gutenberg ebook of the republic this ebook is for the use of anyone anywhere in the united states\n"
          ]
        }
      ]
    }
  ]
}